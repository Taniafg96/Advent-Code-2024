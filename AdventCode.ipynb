{
 "cells": [
  {
   "cell_type": "markdown",
   "metadata": {},
   "source": [
    "# **1 Day**"
   ]
  },
  {
   "cell_type": "markdown",
   "metadata": {},
   "source": [
    "## First Kata"
   ]
  },
  {
   "cell_type": "code",
   "execution_count": 1,
   "metadata": {},
   "outputs": [
    {
     "data": {
      "text/plain": [
       "2066446"
      ]
     },
     "execution_count": 1,
     "metadata": {},
     "output_type": "execute_result"
    }
   ],
   "source": [
    "import pandas as pd\n",
    "\n",
    "df = pd.read_csv('01-1.txt', header=None, delimiter=r\"\\s+\")\n",
    "second_list = df.iloc[:, 1].tolist()\n",
    "first_list = df.iloc[:, 0].tolist()\n",
    "\n",
    "index = 0\n",
    "distance_list = []\n",
    "while len(first_list) > 0:\n",
    "    first_list_min = first_list[0]\n",
    "    first_list_index = 0\n",
    "    second_list_min = second_list[0]\n",
    "    second_list_index = 0\n",
    "    for i in range(1, len(first_list), 1):\n",
    "        if first_list[i] < first_list_min:\n",
    "            first_list_min = first_list[i]\n",
    "            first_list_index = i\n",
    "        if second_list[i] < second_list_min:\n",
    "            second_list_min = second_list[i]\n",
    "            second_list_index = i\n",
    "            \n",
    "    distance_list.append(abs(first_list_min - second_list_min))\n",
    "    first_list.pop(first_list_index)\n",
    "    second_list.pop(second_list_index)\n",
    "    \n",
    "sum(distance_list)"
   ]
  },
  {
   "cell_type": "markdown",
   "metadata": {},
   "source": [
    "## Second Kata"
   ]
  },
  {
   "cell_type": "code",
   "execution_count": 2,
   "metadata": {},
   "outputs": [
    {
     "data": {
      "text/plain": [
       "24931009"
      ]
     },
     "execution_count": 2,
     "metadata": {},
     "output_type": "execute_result"
    }
   ],
   "source": [
    "import pandas as pd\n",
    "\n",
    "df = pd.read_csv('01-2.txt', header=None, delimiter=r\"\\s+\")\n",
    "second_list = df.iloc[:, 1].tolist()\n",
    "first_list = df.iloc[:, 0].tolist()\n",
    "\n",
    "def repeat_value(num: int):\n",
    "    return len(list(filter(lambda x: x == num, second_list)))\n",
    "\n",
    "similarity_list = []\n",
    "for num in first_list:\n",
    "    num_repeat = repeat_value(num)\n",
    "    similarity_list.append(num_repeat * num)\n",
    "\n",
    "sum(similarity_list)"
   ]
  },
  {
   "cell_type": "markdown",
   "metadata": {},
   "source": [
    "# **2 Day**"
   ]
  },
  {
   "cell_type": "markdown",
   "metadata": {},
   "source": [
    "## First Kata"
   ]
  },
  {
   "cell_type": "code",
   "execution_count": null,
   "metadata": {},
   "outputs": [
    {
     "data": {
      "text/plain": [
       "371"
      ]
     },
     "execution_count": 4,
     "metadata": {},
     "output_type": "execute_result"
    }
   ],
   "source": [
    "with open('02.txt') as file:\n",
    "    lines = [list(map(int, line.rstrip().split())) for line in file]\n",
    "\n",
    "safe_counter = 0\n",
    "for line in lines:\n",
    "    safe = True\n",
    "    for index in range(1, len(line), 1):\n",
    "        value = abs(line[index] - line[index - 1])\n",
    "        if value > 3 or value == 0:\n",
    "            safe = False\n",
    "        \n",
    "    if safe and (line == sorted(line) or line == sorted(line)[::-1]):\n",
    "        safe_counter += 1\n",
    "safe_counter"
   ]
  },
  {
   "cell_type": "markdown",
   "metadata": {},
   "source": [
    "## Second Kata"
   ]
  },
  {
   "cell_type": "code",
   "execution_count": null,
   "metadata": {},
   "outputs": [
    {
     "data": {
      "text/plain": [
       "426"
      ]
     },
     "execution_count": 5,
     "metadata": {},
     "output_type": "execute_result"
    }
   ],
   "source": [
    "with open('02.txt') as file:\n",
    "    lines = [list(map(int, line.rstrip().split())) for line in file]\n",
    "\n",
    "def is_line_safe(line: list):\n",
    "    safe = True\n",
    "    for index in range(1, len(line), 1):\n",
    "        value = abs(line[index] - line[index - 1])\n",
    "        if value > 3 or value == 0:\n",
    "            safe = False\n",
    "        \n",
    "    if safe and (line == sorted(line) or line == sorted(line)[::-1]):\n",
    "        return safe\n",
    "    \n",
    "safe_counter = 0\n",
    "for line in lines:\n",
    "    if is_line_safe(line):\n",
    "        safe_counter += 1\n",
    "    else:\n",
    "        for index, element in enumerate(line):\n",
    "            new_line = line.copy()\n",
    "            new_line.pop(index)\n",
    "            if is_line_safe(new_line):\n",
    "                safe_counter += 1\n",
    "                break\n",
    "            \n",
    "safe_counter"
   ]
  },
  {
   "cell_type": "markdown",
   "metadata": {},
   "source": [
    "# **3 Day**"
   ]
  },
  {
   "cell_type": "markdown",
   "metadata": {},
   "source": [
    "## First Kata"
   ]
  },
  {
   "cell_type": "markdown",
   "metadata": {},
   "source": [
    "## Second Kata"
   ]
  }
 ],
 "metadata": {
  "kernelspec": {
   "display_name": "env",
   "language": "python",
   "name": "python3"
  },
  "language_info": {
   "codemirror_mode": {
    "name": "ipython",
    "version": 3
   },
   "file_extension": ".py",
   "mimetype": "text/x-python",
   "name": "python",
   "nbconvert_exporter": "python",
   "pygments_lexer": "ipython3",
   "version": "3.12.3"
  }
 },
 "nbformat": 4,
 "nbformat_minor": 2
}
