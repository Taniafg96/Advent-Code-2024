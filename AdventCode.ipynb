{
 "cells": [
  {
   "cell_type": "markdown",
   "metadata": {},
   "source": [
    "# **1 Day**"
   ]
  },
  {
   "cell_type": "markdown",
   "metadata": {},
   "source": [
    "## First Kata"
   ]
  },
  {
   "cell_type": "code",
   "execution_count": 9,
   "metadata": {},
   "outputs": [
    {
     "data": {
      "text/plain": [
       "2066446"
      ]
     },
     "execution_count": 9,
     "metadata": {},
     "output_type": "execute_result"
    }
   ],
   "source": [
    "import pandas as pd\n",
    "\n",
    "df = pd.read_csv('inputs/01-1.txt', header=None, delimiter=r\"\\s+\")\n",
    "second_list = df.iloc[:, 1].tolist()\n",
    "first_list = df.iloc[:, 0].tolist()\n",
    "\n",
    "index = 0\n",
    "distance_list = []\n",
    "while len(first_list) > 0:\n",
    "    first_list_min = first_list[0]\n",
    "    first_list_index = 0\n",
    "    second_list_min = second_list[0]\n",
    "    second_list_index = 0\n",
    "    for i in range(1, len(first_list), 1):\n",
    "        if first_list[i] < first_list_min:\n",
    "            first_list_min = first_list[i]\n",
    "            first_list_index = i\n",
    "        if second_list[i] < second_list_min:\n",
    "            second_list_min = second_list[i]\n",
    "            second_list_index = i\n",
    "            \n",
    "    distance_list.append(abs(first_list_min - second_list_min))\n",
    "    first_list.pop(first_list_index)\n",
    "    second_list.pop(second_list_index)\n",
    "    \n",
    "sum(distance_list)"
   ]
  },
  {
   "cell_type": "markdown",
   "metadata": {},
   "source": [
    "## Second Kata"
   ]
  },
  {
   "cell_type": "code",
   "execution_count": 8,
   "metadata": {},
   "outputs": [
    {
     "data": {
      "text/plain": [
       "24931009"
      ]
     },
     "execution_count": 8,
     "metadata": {},
     "output_type": "execute_result"
    }
   ],
   "source": [
    "import pandas as pd\n",
    "\n",
    "df = pd.read_csv('inputs/01-2.txt', header=None, delimiter=r\"\\s+\")\n",
    "second_list = df.iloc[:, 1].tolist()\n",
    "first_list = df.iloc[:, 0].tolist()\n",
    "\n",
    "def repeat_value(num: int):\n",
    "    return len(list(filter(lambda x: x == num, second_list)))\n",
    "\n",
    "similarity_list = []\n",
    "for num in first_list:\n",
    "    num_repeat = repeat_value(num)\n",
    "    similarity_list.append(num_repeat * num)\n",
    "\n",
    "sum(similarity_list)"
   ]
  },
  {
   "cell_type": "markdown",
   "metadata": {},
   "source": [
    "# **2 Day**"
   ]
  },
  {
   "cell_type": "markdown",
   "metadata": {},
   "source": [
    "## First Kata"
   ]
  },
  {
   "cell_type": "code",
   "execution_count": 6,
   "metadata": {},
   "outputs": [
    {
     "data": {
      "text/plain": [
       "371"
      ]
     },
     "execution_count": 6,
     "metadata": {},
     "output_type": "execute_result"
    }
   ],
   "source": [
    "with open('inputs/02.txt') as file:\n",
    "    lines = [list(map(int, line.rstrip().split())) for line in file]\n",
    "\n",
    "safe_counter = 0\n",
    "for line in lines:\n",
    "    safe = True\n",
    "    for index in range(1, len(line), 1):\n",
    "        value = abs(line[index] - line[index - 1])\n",
    "        if value > 3 or value == 0:\n",
    "            safe = False\n",
    "        \n",
    "    if safe and (line == sorted(line) or line == sorted(line)[::-1]):\n",
    "        safe_counter += 1\n",
    "safe_counter"
   ]
  },
  {
   "cell_type": "markdown",
   "metadata": {},
   "source": [
    "## Second Kata"
   ]
  },
  {
   "cell_type": "code",
   "execution_count": 7,
   "metadata": {},
   "outputs": [
    {
     "data": {
      "text/plain": [
       "426"
      ]
     },
     "execution_count": 7,
     "metadata": {},
     "output_type": "execute_result"
    }
   ],
   "source": [
    "with open('inputs/02.txt') as file:\n",
    "    lines = [list(map(int, line.rstrip().split())) for line in file]\n",
    "\n",
    "def is_line_safe(line: list):\n",
    "    safe = True\n",
    "    for index in range(1, len(line), 1):\n",
    "        value = abs(line[index] - line[index - 1])\n",
    "        if value > 3 or value == 0:\n",
    "            safe = False\n",
    "        \n",
    "    if safe and (line == sorted(line) or line == sorted(line)[::-1]):\n",
    "        return safe\n",
    "    \n",
    "safe_counter = 0\n",
    "for line in lines:\n",
    "    if is_line_safe(line):\n",
    "        safe_counter += 1\n",
    "    else:\n",
    "        for index, element in enumerate(line):\n",
    "            new_line = line.copy()\n",
    "            new_line.pop(index)\n",
    "            if is_line_safe(new_line):\n",
    "                safe_counter += 1\n",
    "                break\n",
    "            \n",
    "safe_counter"
   ]
  },
  {
   "cell_type": "markdown",
   "metadata": {},
   "source": [
    "# **3 Day**"
   ]
  },
  {
   "cell_type": "markdown",
   "metadata": {},
   "source": [
    "## First Kata"
   ]
  },
  {
   "cell_type": "code",
   "execution_count": 43,
   "metadata": {},
   "outputs": [
    {
     "data": {
      "text/plain": [
       "178886550"
      ]
     },
     "execution_count": 43,
     "metadata": {},
     "output_type": "execute_result"
    }
   ],
   "source": [
    "import re\n",
    "\n",
    "with open(\"inputs/03-1.txt\") as file:\n",
    "    input = file.read()\n",
    "    \n",
    "data = re.findall(r'mul\\s*\\((\\d+(?:,\\s*\\d+)*)\\)', input)\n",
    "input_numbers_list = [i.split(',') for i in data]\n",
    "sum([int(i[0]) * int(i[1]) for i in input_numbers_list])\n"
   ]
  },
  {
   "cell_type": "markdown",
   "metadata": {},
   "source": [
    "## Second Kata"
   ]
  },
  {
   "cell_type": "code",
   "execution_count": 56,
   "metadata": {},
   "outputs": [
    {
     "data": {
      "text/plain": [
       "87163705"
      ]
     },
     "execution_count": 56,
     "metadata": {},
     "output_type": "execute_result"
    }
   ],
   "source": [
    "import re\n",
    "\n",
    "with open(\"inputs/03-1.txt\") as file:\n",
    "    input = file.read()\n",
    "\n",
    "do_statement = re.split(r'do\\(\\)', input)\n",
    "remove_dont_statement = [re.split(r'don\\'t\\(\\)', i)[0] for i in do_statement]\n",
    "input_without_dont = ''.join(remove_dont_statement)\n",
    "\n",
    "data = re.findall(r'mul\\s*\\((\\d+(?:,\\s*\\d+)*)\\)', input_without_dont)\n",
    "input_numbers_list = [i.split(',') for i in data]\n",
    "sum([int(i[0]) * int(i[1]) for i in input_numbers_list])"
   ]
  },
  {
   "cell_type": "markdown",
   "metadata": {},
   "source": [
    "# **4 Day**"
   ]
  },
  {
   "cell_type": "markdown",
   "metadata": {},
   "source": [
    "## First Kata"
   ]
  },
  {
   "cell_type": "code",
   "execution_count": 280,
   "metadata": {},
   "outputs": [
    {
     "data": {
      "text/plain": [
       "2447"
      ]
     },
     "execution_count": 280,
     "metadata": {},
     "output_type": "execute_result"
    }
   ],
   "source": [
    "with open('inputs/04-1.txt') as file:\n",
    "    input = file.readlines()\n",
    "  \n",
    "def find_all_xmas_in_horizontal(key_word, value):\n",
    "    counter = 0\n",
    "    for row in value:\n",
    "        result = []\n",
    "        for cell in row:\n",
    "            result.append(cell)\n",
    "            if key_word in ''.join(result):\n",
    "                counter += 1\n",
    "                result = result[-(len('XMAS')-1)::]\n",
    "                \n",
    "    return counter\n",
    "\n",
    "def find_all_xmas_in_diagonal_by_rows(key_word, value):\n",
    "    counter = 0\n",
    "    columns = len(value[0])\n",
    "    for index, _ in enumerate(value):\n",
    "        result = []\n",
    "        index_row = index\n",
    "        for column in range(0, columns, 1):\n",
    "            current_column = column\n",
    "            if index_row == len(value):\n",
    "                break\n",
    "            result.append(value[index_row][current_column])\n",
    "            current_column += 1\n",
    "            index_row += 1\n",
    "            if key_word in ''.join(result):\n",
    "                counter += 1\n",
    "                result = result[-(len('XMAS')-1)::]\n",
    "    \n",
    "    return counter\n",
    "\n",
    "def find_all_xmas_in_diagonal_by_columns(key_word, value):\n",
    "    counter = 0\n",
    "    current_column = 0\n",
    "    columns = len(value[0])\n",
    "    for column in range(1, columns, 1):\n",
    "        result = []\n",
    "        current_column = column\n",
    "        for row in value:\n",
    "            if current_column == columns:\n",
    "                break\n",
    "            result.append(row[current_column])\n",
    "            current_column += 1\n",
    "            if key_word in ''.join(result):\n",
    "                counter += 1\n",
    "                result = result[-(len('XMAS')-1)::]\n",
    "    \n",
    "    return counter\n",
    "\n",
    "xmas_counter = 0\n",
    "value = [list(i.strip('\\n')) for i in input]\n",
    "rotate_value = [x for x in zip(*value[::-1])]\n",
    "rotate_value_2 = [x for x in zip(*rotate_value[::-1])]\n",
    "\n",
    "xmas_counter += find_all_xmas_in_horizontal('XMAS', value)\n",
    "xmas_counter += find_all_xmas_in_horizontal('XMAS', [i[::-1] for i in value])\n",
    "xmas_counter += find_all_xmas_in_horizontal('XMAS', [x for x in zip(*value[::-1])])\n",
    "xmas_counter += find_all_xmas_in_horizontal('XMAS', [x[::-1] for x in zip(*value[::-1])])\n",
    "xmas_counter += find_all_xmas_in_diagonal_by_rows('XMAS', value)\n",
    "xmas_counter += find_all_xmas_in_diagonal_by_columns('XMAS', value)\n",
    "xmas_counter += find_all_xmas_in_diagonal_by_rows('XMAS', [i[::-1] for i in value])\n",
    "xmas_counter += find_all_xmas_in_diagonal_by_columns('XMAS', [i[::-1] for i in value])\n",
    "xmas_counter += find_all_xmas_in_diagonal_by_rows('XMAS', rotate_value)\n",
    "xmas_counter += find_all_xmas_in_diagonal_by_columns('XMAS', rotate_value)\n",
    "xmas_counter += find_all_xmas_in_diagonal_by_rows('XMAS', rotate_value_2)\n",
    "xmas_counter += find_all_xmas_in_diagonal_by_columns('XMAS', rotate_value_2)\n",
    "\n",
    "\n",
    "xmas_counter\n",
    "\n",
    "    "
   ]
  },
  {
   "cell_type": "markdown",
   "metadata": {},
   "source": [
    "## Second Kata"
   ]
  },
  {
   "cell_type": "code",
   "execution_count": null,
   "metadata": {},
   "outputs": [],
   "source": []
  }
 ],
 "metadata": {
  "kernelspec": {
   "display_name": "env",
   "language": "python",
   "name": "python3"
  },
  "language_info": {
   "codemirror_mode": {
    "name": "ipython",
    "version": 3
   },
   "file_extension": ".py",
   "mimetype": "text/x-python",
   "name": "python",
   "nbconvert_exporter": "python",
   "pygments_lexer": "ipython3",
   "version": "3.12.3"
  }
 },
 "nbformat": 4,
 "nbformat_minor": 2
}
